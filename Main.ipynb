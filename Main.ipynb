{
 "cells": [
  {
   "cell_type": "code",
   "execution_count": 1,
   "metadata": {
    "id": "U-J1HOKkpLFB"
   },
   "outputs": [
    {
     "name": "stdout",
     "output_type": "stream",
     "text": [
      "4.346264837114471\n",
      "9.0\n"
     ]
    }
   ],
   "source": [
    "from ipynb.fs.full.PBR_1 import *\n",
    "import tkinter\n",
    "from PIL import Image, ImageTk\n",
    "from tkinter import filedialog\n",
    "from tkinter import *\n",
    "from tkinter import messagebox\n",
    "\n",
    "from PIL import Image\n",
    "import cv2\n",
    "import matplotlib.pyplot as plt\n",
    "import matplotlib.image as mpimg\n",
    "\n",
    "import numpy as np\n",
    "import glob # For handling paths\n",
    "import os\n",
    "from functools import partial\n",
    "\n",
    "from tensorflow import keras"
   ]
  },
  {
   "cell_type": "code",
   "execution_count": 2,
   "metadata": {
    "id": "B1KcDpZ1pLFD"
   },
   "outputs": [],
   "source": [
    "rec_model = keras.models.load_model('6_Resnet50_87%')"
   ]
  },
  {
   "cell_type": "code",
   "execution_count": 3,
   "metadata": {
    "id": "SLD4v5NJpLFE"
   },
   "outputs": [],
   "source": [
    "def showImage():\n",
    "    path = filedialog.askopenfilename(initialdir=os.getcwd(), title=\"Select Image File\", filetypes=([('image files', ('.png', '.jpg', '.jpeg', '.ico')), (\"All Files\", \"*.*\")]))\n",
    "    img = Image.open(path)\n",
    "    img.thumbnail((450,350))\n",
    "    img = ImageTk.PhotoImage(img)\n",
    "    lbl.configure(image=img)\n",
    "    lbl.image = img\n",
    "    \n",
    "    img = cv2.resize(cv2.imread(path), (256,256), interpolation=cv2.INTER_AREA)\n",
    "    img = cv2.cvtColor(img, cv2.COLOR_BGR2RGB)\n",
    "    img = img.reshape((1,256,256,3))\n",
    "    img = np.asarray(img)\n",
    "    img = img/255 \n",
    "    \n",
    "    global rec_model \n",
    "    ar=np.argmax(rec_model.predict(img),axis=-1)\n",
    "    food_items = os.listdir('/home/pranav/Documents/Project_Datasets/food_modified_500/images')\n",
    "    food_items.sort()\n",
    "    global food\n",
    "    food = food_items[ar[0]]\n",
    "    \n",
    "    label0 = tkinter.Label(window,text=\"It's a \"+food,font=(\"ArialBold\",45),fg='white',bg='#01DF01').pack(fill='x')"
   ]
  },
  {
   "cell_type": "code",
   "execution_count": 4,
   "metadata": {
    "id": "A8xA0jYQpLFF"
   },
   "outputs": [],
   "source": [
    "def newWindow():\n",
    "    global food\n",
    "    win = tkinter.Tk()\n",
    "    win.configure(background='#0B2F3A')\n",
    "    lalel_1 = tkinter.Label(win,text=food+\" Recipes\",font=(\"ArialBold\",45),fg='white',bg='#FE9A2E').pack(fill = 'x')\n",
    "    win.title(\"Recommendations\")\n",
    "    win.geometry(\"5200x1100\")\n",
    "    \n",
    "    rlist = recmond(food)\n",
    "    fname = rlist[\"name\"]\n",
    "    fstep = rlist[\"steps\"]\n",
    "    for i in range(5):\n",
    "        #global steps\n",
    "        steps = fstep[i].strip('][').split(\"', '\")\n",
    "        btn = tkinter.Button(win,text=fname[i], command=partial(recipe,steps))\n",
    "        btn.pack(ipadx=10,ipady=10,expand=True)\n",
    "        btn.config(font = (\"Helvetica\", 15), height=1,width=70) \n",
    "\n",
    "    \n",
    "    btn_1 = tkinter.Button(win,text=\" Exit \", command=win.destroy)\n",
    "    btn_1.pack(ipadx=10,ipady=10,expand=True)\n",
    "    btn_1.config(font = (\"Helvetica\", 10), height=1,width=10) \n"
   ]
  },
  {
   "cell_type": "code",
   "execution_count": 5,
   "metadata": {
    "id": "1oyN4q5gpLFF"
   },
   "outputs": [],
   "source": [
    "def recipe(steps=[]):\n",
    "    global food\n",
    "    rec = tkinter.Tk()\n",
    "    rec.configure(background='#0B2F3A')\n",
    "    lalel_1 = tkinter.Label(rec,text=food+\" Recipes\",font=(\"ArialBold\",45),fg='white',bg='#FE9A2E').pack(fill = 'x')\n",
    "    rec.title(\"Recommendations\")\n",
    "    rec.geometry(\"5200x1100\")\n",
    "    \n",
    "    for n in steps:\n",
    "        label = tkinter.Label(rec,text=n,font=(\"Bold\",15),bg='white',fg='black').pack(fill = 'x')\n",
    " \n",
    "        \n",
    "    btn_1 = tkinter.Button(rec,text=\" Exit \", command=rec.destroy)\n",
    "    btn_1.pack(ipadx=10,ipady=10,expand=True)\n",
    "    btn_1.config(font = (\"Helvetica\", 10), width=10) \n"
   ]
  },
  {
   "cell_type": "code",
   "execution_count": 7,
   "metadata": {
    "id": "zsIzTMx0pLFG",
    "scrolled": false
   },
   "outputs": [],
   "source": [
    "window = tkinter.Tk()\n",
    "#window.iconbitmap(\"I2F.jpeg\")\n",
    "\n",
    "window.title(\"Image To Food\")\n",
    "window.geometry(\"5200x1100\")\n",
    "window.configure(background='#0B2F3A')\n",
    "\n",
    "label1 = tkinter.Label(window,text=\"Welcome To Our CDAC Project : Image To Food\",font=(\"ArialBold\",45),fg='white',bg='#FE9A2E').pack(fill='x')\n",
    "label2 = tkinter.Label(window,text='Select Image Of Your Favorite Food',font=(\"Bold\",40),bg='white',fg='black').pack(fill = 'x')\n",
    "#label2.pack(ipadx=10,ipady=10,expand=True)\n",
    "\n",
    "    \n",
    "    \n",
    "frm = tkinter.Frame(window)\n",
    "frm.pack( padx=15, pady=15)\n",
    "\n",
    "lbl = tkinter.Label(window)\n",
    "lbl.pack(side=tkinter.LEFT)\n",
    "\n",
    "food = \"\"\n",
    "\n",
    "btn1 = tkinter.Button(window,text=\"Select Image\", command=showImage)\n",
    "btn1.pack(ipadx=10,ipady=10,expand=True)\n",
    "btn1.config(font = (\"Helvetica\", 30), height=1,width=10) \n",
    "\n",
    "btn3 = tkinter.Button(window,text=\"Get Recipes\", command= newWindow)\n",
    "btn3.pack(ipadx=15,ipady=10,expand=True)\n",
    "btn3.config(font = (\"Helvetica\", 30), height=1,width=10) \n",
    "\n",
    "\n",
    "btn2 = tkinter.Button(window,text=\" Exit \", command=window.destroy)\n",
    "btn2.pack(ipadx=10,ipady=10,expand=True)\n",
    "btn2.config(font = (\"Helvetica\", 30), width=10) \n",
    "\n",
    "# import cx_Freeze\n",
    "# import sys\n",
    "# import matplotlib\n",
    "\n",
    "# base = None\n",
    "\n",
    "# if sys.platform == 'win32':\n",
    "#     base = \"Win32GUI\"\n",
    "\n",
    "# executables = [cx_Freeze.Executable(\"tkinterVid28.py\", base=base, icon=\"clienticon.ico\")]\n",
    "\n",
    "# cx_Freeze.setup(\n",
    "#     name = \"Image_to_Food\",\n",
    "#     options = {\"build_exe\": {\"packages\":[\"tkinter\",\"matplotlib\"], \"include_files\":[\"clienticon.ico\"]}},\n",
    "#     version = \"0.01\",\n",
    "#     description = \"Image to Food Applications\",\n",
    "#     executables = executables\n",
    "#     )\n",
    "window.mainloop()"
   ]
  },
  {
   "cell_type": "code",
   "execution_count": 8,
   "metadata": {
    "id": "G9njG49zpLFI"
   },
   "outputs": [
    {
     "ename": "SyntaxError",
     "evalue": "invalid syntax (<ipython-input-8-f0c3048270fb>, line 1)",
     "output_type": "error",
     "traceback": [
      "\u001b[0;36m  File \u001b[0;32m\"<ipython-input-8-f0c3048270fb>\"\u001b[0;36m, line \u001b[0;32m1\u001b[0m\n\u001b[0;31m    pyinstaller --onefile Experiment.py\u001b[0m\n\u001b[0m                          ^\u001b[0m\n\u001b[0;31mSyntaxError\u001b[0m\u001b[0;31m:\u001b[0m invalid syntax\n"
     ]
    }
   ],
   "source": [
    "pyinstaller --onefile Experiment.py"
   ]
  },
  {
   "cell_type": "code",
   "execution_count": null,
   "metadata": {
    "id": "MO_8J8adpLFI"
   },
   "outputs": [],
   "source": []
  },
  {
   "cell_type": "code",
   "execution_count": null,
   "metadata": {
    "id": "qW2vTu5ipLFK"
   },
   "outputs": [],
   "source": []
  }
 ],
 "metadata": {
  "colab": {
   "name": "Main-Copy1.ipynb",
   "provenance": []
  },
  "kernelspec": {
   "display_name": "Python 3",
   "language": "python",
   "name": "python3"
  },
  "language_info": {
   "codemirror_mode": {
    "name": "ipython",
    "version": 3
   },
   "file_extension": ".py",
   "mimetype": "text/x-python",
   "name": "python",
   "nbconvert_exporter": "python",
   "pygments_lexer": "ipython3",
   "version": "3.8.3"
  }
 },
 "nbformat": 4,
 "nbformat_minor": 1
}
